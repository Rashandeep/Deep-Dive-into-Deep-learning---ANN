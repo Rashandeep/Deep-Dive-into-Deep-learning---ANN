{
  "nbformat": 4,
  "nbformat_minor": 0,
  "metadata": {
    "colab": {
      "name": "Palwinder Singh - www.palwindersingh.in@gmail.com",
      "provenance": [],
      "collapsed_sections": []
    },
    "kernelspec": {
      "name": "python3",
      "display_name": "Python 3"
    },
    "language_info": {
      "name": "python"
    }
  },
  "cells": [
    {
      "cell_type": "markdown",
      "metadata": {
        "id": "LAQP3fCnTI9A"
      },
      "source": [
        "name=Palwinder Singh\n",
        "email= www.palwindersingh.in@gmail.com"
      ]
    },
    {
      "cell_type": "code",
      "metadata": {
        "id": "BJjJCQds5VGJ"
      },
      "source": [
        "import numpy as nn\n",
        "import pandas as pp\n",
        "\n",
        "from google.colab import files\n",
        "\n"
      ],
      "execution_count": null,
      "outputs": []
    },
    {
      "cell_type": "code",
      "metadata": {
        "id": "3xaoB39tfB1T"
      },
      "source": [
        "import numpy as nn\n",
        "import pandas as pp\n",
        "gill_data = pp.read_csv(\"https://raw.githubusercontent.com/palwindergill7/Deep-Dive-into-Deep-learning---ANN/main/heart.csv\")"
      ],
      "execution_count": null,
      "outputs": []
    },
    {
      "cell_type": "code",
      "metadata": {
        "id": "bsvRYnxwf5CX"
      },
      "source": [
        "X = gill_data.iloc[:,:-1]\n",
        "Y= gill_data.iloc[:,-1]"
      ],
      "execution_count": null,
      "outputs": []
    },
    {
      "cell_type": "code",
      "metadata": {
        "id": "LkFU8hiXgO1q"
      },
      "source": [
        "from sklearn.model_selection import train_test_split\n",
        "X_train,X_test,Y_train,Y_test = train_test_split(X,Y,test_size=0.35)"
      ],
      "execution_count": null,
      "outputs": []
    },
    {
      "cell_type": "code",
      "metadata": {
        "id": "2RK1NYRBgImN"
      },
      "source": [
        "from sklearn.preprocessing import StandardScaler\n",
        "sc= StandardScaler()\n",
        "X_train = sc.fit_transform(X_train) \n",
        "X_test = sc.transform(X_test)"
      ],
      "execution_count": null,
      "outputs": []
    },
    {
      "cell_type": "code",
      "metadata": {
        "id": "ExJvdFHkh6HG"
      },
      "source": [
        "import keras\n",
        "from keras.models import Sequential\n",
        "from keras.layers import Dense\n",
        "classifier = Sequential()"
      ],
      "execution_count": null,
      "outputs": []
    },
    {
      "cell_type": "markdown",
      "metadata": {
        "id": "x5woiCdcimxM"
      },
      "source": [
        " **Adding Layers**"
      ]
    },
    {
      "cell_type": "code",
      "metadata": {
        "id": "ewbgbRX4iyci"
      },
      "source": [
        "classifier.add(Dense(units=6,kernel_initializer='uniform',activation='relu',input_dim=13))\n",
        "\n",
        "classifier.add(Dense(units=3,kernel_initializer='uniform',activation='relu'))\n",
        "classifier.add(Dense(units=1,kernel_initializer='uniform',activation='sigmoid'))\n",
        "\n",
        "classifier.compile(optimizer='adam',loss='binary_crossentropy',metrics=['accuracy'])"
      ],
      "execution_count": null,
      "outputs": []
    },
    {
      "cell_type": "code",
      "metadata": {
        "colab": {
          "base_uri": "https://localhost:8080/"
        },
        "id": "DGrQLZC5k6aW",
        "outputId": "cb1e61bb-f118-4d55-b536-8d1516da8669"
      },
      "source": [
        "classifier.fit(X_train,Y_train,batch_size=10,epochs=50)\n",
        "\n"
      ],
      "execution_count": null,
      "outputs": [
        {
          "output_type": "stream",
          "name": "stdout",
          "text": [
            "Epoch 1/50\n",
            "20/20 [==============================] - 0s 2ms/step - loss: 0.6890 - accuracy: 0.5459\n",
            "Epoch 2/50\n",
            "20/20 [==============================] - 0s 2ms/step - loss: 0.6890 - accuracy: 0.5459\n",
            "Epoch 3/50\n",
            "20/20 [==============================] - 0s 2ms/step - loss: 0.6889 - accuracy: 0.5459\n",
            "Epoch 4/50\n",
            "20/20 [==============================] - 0s 2ms/step - loss: 0.6890 - accuracy: 0.5459\n",
            "Epoch 5/50\n",
            "20/20 [==============================] - 0s 1ms/step - loss: 0.6890 - accuracy: 0.5459\n",
            "Epoch 6/50\n",
            "20/20 [==============================] - 0s 2ms/step - loss: 0.6890 - accuracy: 0.5459\n",
            "Epoch 7/50\n",
            "20/20 [==============================] - 0s 2ms/step - loss: 0.6890 - accuracy: 0.5459\n",
            "Epoch 8/50\n",
            "20/20 [==============================] - 0s 2ms/step - loss: 0.6889 - accuracy: 0.5459\n",
            "Epoch 9/50\n",
            "20/20 [==============================] - 0s 2ms/step - loss: 0.6890 - accuracy: 0.5459\n",
            "Epoch 10/50\n",
            "20/20 [==============================] - 0s 2ms/step - loss: 0.6889 - accuracy: 0.5459\n",
            "Epoch 11/50\n",
            "20/20 [==============================] - 0s 2ms/step - loss: 0.6889 - accuracy: 0.5459\n",
            "Epoch 12/50\n",
            "20/20 [==============================] - 0s 2ms/step - loss: 0.6889 - accuracy: 0.5459\n",
            "Epoch 13/50\n",
            "20/20 [==============================] - 0s 2ms/step - loss: 0.6890 - accuracy: 0.5459\n",
            "Epoch 14/50\n",
            "20/20 [==============================] - 0s 2ms/step - loss: 0.6890 - accuracy: 0.5459\n",
            "Epoch 15/50\n",
            "20/20 [==============================] - 0s 2ms/step - loss: 0.6889 - accuracy: 0.5459\n",
            "Epoch 16/50\n",
            "20/20 [==============================] - 0s 2ms/step - loss: 0.6889 - accuracy: 0.5459\n",
            "Epoch 17/50\n",
            "20/20 [==============================] - 0s 2ms/step - loss: 0.6890 - accuracy: 0.5459\n",
            "Epoch 18/50\n",
            "20/20 [==============================] - 0s 2ms/step - loss: 0.6890 - accuracy: 0.5459\n",
            "Epoch 19/50\n",
            "20/20 [==============================] - 0s 2ms/step - loss: 0.6890 - accuracy: 0.5459\n",
            "Epoch 20/50\n",
            "20/20 [==============================] - 0s 2ms/step - loss: 0.6889 - accuracy: 0.5459\n",
            "Epoch 21/50\n",
            "20/20 [==============================] - 0s 2ms/step - loss: 0.6890 - accuracy: 0.5459\n",
            "Epoch 22/50\n",
            "20/20 [==============================] - 0s 2ms/step - loss: 0.6890 - accuracy: 0.5459\n",
            "Epoch 23/50\n",
            "20/20 [==============================] - 0s 2ms/step - loss: 0.6890 - accuracy: 0.5459\n",
            "Epoch 24/50\n",
            "20/20 [==============================] - 0s 2ms/step - loss: 0.6889 - accuracy: 0.5459\n",
            "Epoch 25/50\n",
            "20/20 [==============================] - 0s 2ms/step - loss: 0.6889 - accuracy: 0.5459\n",
            "Epoch 26/50\n",
            "20/20 [==============================] - 0s 2ms/step - loss: 0.6890 - accuracy: 0.5459\n",
            "Epoch 27/50\n",
            "20/20 [==============================] - 0s 2ms/step - loss: 0.6889 - accuracy: 0.5459\n",
            "Epoch 28/50\n",
            "20/20 [==============================] - 0s 2ms/step - loss: 0.6890 - accuracy: 0.5459\n",
            "Epoch 29/50\n",
            "20/20 [==============================] - 0s 2ms/step - loss: 0.6889 - accuracy: 0.5459\n",
            "Epoch 30/50\n",
            "20/20 [==============================] - 0s 2ms/step - loss: 0.6890 - accuracy: 0.5459\n",
            "Epoch 31/50\n",
            "20/20 [==============================] - 0s 2ms/step - loss: 0.6890 - accuracy: 0.5459\n",
            "Epoch 32/50\n",
            "20/20 [==============================] - 0s 2ms/step - loss: 0.6889 - accuracy: 0.5459\n",
            "Epoch 33/50\n",
            "20/20 [==============================] - 0s 2ms/step - loss: 0.6889 - accuracy: 0.5459\n",
            "Epoch 34/50\n",
            "20/20 [==============================] - 0s 2ms/step - loss: 0.6890 - accuracy: 0.5459\n",
            "Epoch 35/50\n",
            "20/20 [==============================] - 0s 2ms/step - loss: 0.6889 - accuracy: 0.5459\n",
            "Epoch 36/50\n",
            "20/20 [==============================] - 0s 2ms/step - loss: 0.6890 - accuracy: 0.5459\n",
            "Epoch 37/50\n",
            "20/20 [==============================] - 0s 2ms/step - loss: 0.6889 - accuracy: 0.5459\n",
            "Epoch 38/50\n",
            "20/20 [==============================] - 0s 2ms/step - loss: 0.6889 - accuracy: 0.5459\n",
            "Epoch 39/50\n",
            "20/20 [==============================] - 0s 2ms/step - loss: 0.6890 - accuracy: 0.5459\n",
            "Epoch 40/50\n",
            "20/20 [==============================] - 0s 2ms/step - loss: 0.6889 - accuracy: 0.5459\n",
            "Epoch 41/50\n",
            "20/20 [==============================] - 0s 2ms/step - loss: 0.6890 - accuracy: 0.5459\n",
            "Epoch 42/50\n",
            "20/20 [==============================] - 0s 2ms/step - loss: 0.6890 - accuracy: 0.5459\n",
            "Epoch 43/50\n",
            "20/20 [==============================] - 0s 2ms/step - loss: 0.6890 - accuracy: 0.5459\n",
            "Epoch 44/50\n",
            "20/20 [==============================] - 0s 2ms/step - loss: 0.6890 - accuracy: 0.5459\n",
            "Epoch 45/50\n",
            "20/20 [==============================] - 0s 2ms/step - loss: 0.6890 - accuracy: 0.5459\n",
            "Epoch 46/50\n",
            "20/20 [==============================] - 0s 2ms/step - loss: 0.6889 - accuracy: 0.5459\n",
            "Epoch 47/50\n",
            "20/20 [==============================] - 0s 1ms/step - loss: 0.6890 - accuracy: 0.5459\n",
            "Epoch 48/50\n",
            "20/20 [==============================] - 0s 2ms/step - loss: 0.6889 - accuracy: 0.5459\n",
            "Epoch 49/50\n",
            "20/20 [==============================] - 0s 2ms/step - loss: 0.6890 - accuracy: 0.5459\n",
            "Epoch 50/50\n",
            "20/20 [==============================] - 0s 2ms/step - loss: 0.6890 - accuracy: 0.5459\n"
          ]
        },
        {
          "output_type": "execute_result",
          "data": {
            "text/plain": [
              "<keras.callbacks.History at 0x7fa73c511950>"
            ]
          },
          "metadata": {},
          "execution_count": 47
        }
      ]
    },
    {
      "cell_type": "markdown",
      "metadata": {
        "id": "g4O3xBCqlXZx"
      },
      "source": [
        "**Test accuracy**"
      ]
    },
    {
      "cell_type": "code",
      "metadata": {
        "id": "ycjyNv2ClcV5"
      },
      "source": [
        "Y_pred= classifier.predict(X_test)\n",
        "Y_pred = (Y_pred > 0.5)\n",
        "from sklearn.metrics import confusion_matrix\n",
        "cm = confusion_matrix(Y_test,Y_pred)"
      ],
      "execution_count": null,
      "outputs": []
    },
    {
      "cell_type": "code",
      "metadata": {
        "colab": {
          "base_uri": "https://localhost:8080/"
        },
        "id": "92kznKWRnLv8",
        "outputId": "9ae92859-b1b1-4547-d13e-bf862b416b1d"
      },
      "source": [
        "print(cm)"
      ],
      "execution_count": null,
      "outputs": [
        {
          "output_type": "stream",
          "name": "stdout",
          "text": [
            "[[ 0 49]\n",
            " [ 0 58]]\n"
          ]
        }
      ]
    }
  ]
}